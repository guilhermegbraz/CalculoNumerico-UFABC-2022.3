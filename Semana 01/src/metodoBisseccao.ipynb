{
 "cells": [
  {
   "cell_type": "code",
   "execution_count": 2,
   "metadata": {},
   "outputs": [],
   "source": [
    "import numpy as np\n",
    "import math as mt\n"
   ]
  },
  {
   "cell_type": "markdown",
   "metadata": {},
   "source": [
    "##Coloque no bloco abaixo a função"
   ]
  },
  {
   "cell_type": "code",
   "execution_count": null,
   "metadata": {},
   "outputs": [],
   "source": [
    "def funcao_problema(x):\n",
    "    return pow(x, 2) + mt.log(x)"
   ]
  },
  {
   "cell_type": "markdown",
   "metadata": {},
   "source": [
    "##Defina as pontos iniciais e finais e também a precisao"
   ]
  },
  {
   "cell_type": "code",
   "execution_count": 34,
   "metadata": {},
   "outputs": [],
   "source": [
    "ponto_inicio = 0.5\n",
    "ponto_final = 1\n",
    "precisao = 0.01"
   ]
  },
  {
   "cell_type": "code",
   "execution_count": 35,
   "metadata": {},
   "outputs": [
    {
     "name": "stdout",
     "output_type": "stream",
     "text": [
      "nosso ponto atual eh: 0.75 e o valor da função no ponto eh: 0.2748179275482191, estamos na 0 iteração\n",
      "atualizei o A\n",
      "nosso ponto atual eh: 0.625 e o valor da função no ponto eh: -0.07937862924573558, estamos na 1 iteração\n",
      "atualizei o B\n",
      "nosso ponto atual eh: 0.6875 e o valor da função no ponto eh: 0.0979628005585893, estamos na 2 iteração\n",
      "atualizei o A\n",
      "nosso ponto atual eh: 0.65625 e o valor da função no ponto eh: 0.009450597423696472, estamos na 3 iteração\n",
      "atualizei o A\n",
      "nosso ponto atual eh: 0.640625 e o valor da função no ponto eh: -0.034910626030364045, estamos na 4 iteração\n",
      "atualizei o B\n",
      "nosso ponto atual eh: 0.6484375 e o valor da função no ponto eh: -0.01271846471676924, estamos na 5 iteração\n",
      "encontrei a raiz depois de 0 iterações\n",
      "0.6484375\n"
     ]
    }
   ],
   "source": [
    "contador = 0\n",
    "raiz_encontrada = False\n",
    "while (not raiz_encontrada) and contador < 100 :\n",
    "    \n",
    "    x = np.array([ponto_inicio, ponto_final]).mean()\n",
    "    print(\"nosso ponto atual eh: {} e o valor da função no ponto eh: {}, estamos na {} iteração\".format(x, funcao_problema(x), contador))\n",
    "    if((abs(x - ponto_inicio)/np.array([1, x]).max()) < precisao) :\n",
    "        print(\"encontrei a raiz depois de {} iterações\".format(contador))\n",
    "        raiz = x\n",
    "        raiz_encontrada = True\n",
    "    else:\n",
    "        if funcao_problema(ponto_inicio) * funcao_problema(x) < 0:\n",
    "            print(\"atualizei o A\" )\n",
    "            ponto_final = x\n",
    "        else:\n",
    "            print(\"atualizei o B\" )\n",
    "            ponto_inicio = x\n",
    "    contador += 1\n",
    "    \n",
    "print(raiz)"
   ]
  }
 ],
 "metadata": {
  "kernelspec": {
   "display_name": "Python 3.10.7 64-bit (microsoft store)",
   "language": "python",
   "name": "python3"
  },
  "language_info": {
   "codemirror_mode": {
    "name": "ipython",
    "version": 3
   },
   "file_extension": ".py",
   "mimetype": "text/x-python",
   "name": "python",
   "nbconvert_exporter": "python",
   "pygments_lexer": "ipython3",
   "version": "3.10.7"
  },
  "orig_nbformat": 4,
  "vscode": {
   "interpreter": {
    "hash": "cd4d9da3897837171c5f6adf2c570a3dd5870bb7392f9fbe36379e9836b5fa7b"
   }
  }
 },
 "nbformat": 4,
 "nbformat_minor": 2
}
