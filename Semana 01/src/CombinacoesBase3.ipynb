{
 "cells": [
  {
   "cell_type": "code",
   "execution_count": 4,
   "metadata": {},
   "outputs": [],
   "source": [
    "import pandas as pd"
   ]
  },
  {
   "cell_type": "code",
   "execution_count": 5,
   "metadata": {},
   "outputs": [],
   "source": [
    "def combinacao3() :\n",
    "    relacao = list()\n",
    "    for d1 in range(1,3):\n",
    "        for d2 in range (0,3):\n",
    "            for d3 in range (0, 3):\n",
    "                for pot in range (-2, 2, 1):\n",
    "                    resultado = (d1* pow(3, -1) + d2 * pow(3, -2) + d3 * pow(3, -3)) * pow(3,pot)\n",
    "                    linha = (\"Combinação 0.{}{}{} x 3^{}\".format(d1, d2, d3, pot) , resultado);\n",
    "                    relacao.append(linha)\n",
    "    return relacao"
   ]
  },
  {
   "cell_type": "code",
   "execution_count": 6,
   "metadata": {},
   "outputs": [],
   "source": [
    "def main():\n",
    "    \n",
    "    tabela = pd.DataFrame(combinacao3(), columns=[\"Mantissa base 3\" , \"Decimal\"])\n",
    "    \n",
    "    \n",
    "    return tabela\n",
    "\n",
    "result = main()"
   ]
  },
  {
   "cell_type": "code",
   "execution_count": 18,
   "metadata": {},
   "outputs": [],
   "source": [
    "result.to_csv(\"Resultado questao 2.csv\", \";\", index=False)"
   ]
  }
 ],
 "metadata": {
  "kernelspec": {
   "display_name": "Python 3.10.7 ('calcnum': venv)",
   "language": "python",
   "name": "python3"
  },
  "language_info": {
   "codemirror_mode": {
    "name": "ipython",
    "version": 3
   },
   "file_extension": ".py",
   "mimetype": "text/x-python",
   "name": "python",
   "nbconvert_exporter": "python",
   "pygments_lexer": "ipython3",
   "version": "3.10.7"
  },
  "orig_nbformat": 4,
  "vscode": {
   "interpreter": {
    "hash": "9c1f18f054bb6913bdc19e0bd7f5fafc144cddd93db4e045663cdc969eed3cf8"
   }
  }
 },
 "nbformat": 4,
 "nbformat_minor": 2
}
