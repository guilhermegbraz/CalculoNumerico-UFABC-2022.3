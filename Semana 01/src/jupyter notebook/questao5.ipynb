{
 "cells": [
  {
   "cell_type": "code",
   "execution_count": 3,
   "metadata": {},
   "outputs": [],
   "source": [
    "import math\n",
    "import pandas as pd"
   ]
  },
  {
   "cell_type": "code",
   "execution_count": 11,
   "metadata": {},
   "outputs": [],
   "source": [
    "continuar = True\n",
    "x_i = 0.6\n",
    "contador = 0\n",
    "relacao = list()\n",
    "while(continuar):\n",
    "    relacao.append((x_i, -math.log(x_i)))\n",
    "    x_i = -math.log(x_i)\n",
    "    if (contador > 5):\n",
    "        continuar = False\n",
    "    contador+=1\n",
    "    \n"
   ]
  },
  {
   "cell_type": "code",
   "execution_count": 8,
   "metadata": {},
   "outputs": [
    {
     "data": {
      "text/html": [
       "<div>\n",
       "<style scoped>\n",
       "    .dataframe tbody tr th:only-of-type {\n",
       "        vertical-align: middle;\n",
       "    }\n",
       "\n",
       "    .dataframe tbody tr th {\n",
       "        vertical-align: top;\n",
       "    }\n",
       "\n",
       "    .dataframe thead th {\n",
       "        text-align: right;\n",
       "    }\n",
       "</style>\n",
       "<table border=\"1\" class=\"dataframe\">\n",
       "  <thead>\n",
       "    <tr style=\"text-align: right;\">\n",
       "      <th></th>\n",
       "      <th>Atual</th>\n",
       "      <th>f(atual)</th>\n",
       "    </tr>\n",
       "  </thead>\n",
       "  <tbody>\n",
       "    <tr>\n",
       "      <th>0</th>\n",
       "      <td>0.600000</td>\n",
       "      <td>0.510826</td>\n",
       "    </tr>\n",
       "    <tr>\n",
       "      <th>1</th>\n",
       "      <td>0.510826</td>\n",
       "      <td>0.671727</td>\n",
       "    </tr>\n",
       "  </tbody>\n",
       "</table>\n",
       "</div>"
      ],
      "text/plain": [
       "      Atual  f(atual)\n",
       "0  0.600000  0.510826\n",
       "1  0.510826  0.671727"
      ]
     },
     "execution_count": 8,
     "metadata": {},
     "output_type": "execute_result"
    }
   ],
   "source": [
    "data = pd.DataFrame(relacao, columns=[\"Atual\", \"f(atual)\"])\n",
    "data"
   ]
  },
  {
   "cell_type": "code",
   "execution_count": 15,
   "metadata": {},
   "outputs": [
    {
     "name": "stdout",
     "output_type": "stream",
     "text": [
      "0.55\n",
      "0.5769498103804866\n",
      "0.5616087699523267\n",
      "0.5702908586588951\n",
      "0.5653609746479221\n",
      "0.5681550201786464\n",
      "0.5665697848249219\n",
      "0.5674686435412523\n",
      "0.5669587985783827\n",
      "0.567247933366687\n",
      "0.567083945963931\n",
      "0.5671769482127644\n",
      "0.5671242019338935\n",
      "0.5671541164141349\n",
      "0.5671371505472894\n",
      "0.5671467726022917\n",
      "0.5671413155111056\n",
      "0.5671444104614245\n",
      "0.5671426551803668\n",
      "0.5671436506760001\n",
      "0.5671430860872534\n",
      "0.567143406289948\n",
      "0.5671432246891301\n",
      "0.567143327682813\n",
      "0.567143269270636\n",
      "0.5671433023987099\n",
      "0.5671432836103449\n",
      "0.56714329426604\n",
      "0.5671432882227341\n",
      "0.5671432916501545\n",
      "0.567143289706316\n",
      "0.5671432908087509\n",
      "0.5671432901835124\n",
      "0.5671432905381122\n",
      "0.5671432903370034\n",
      "0.5671432904510608\n",
      "0.5671432903863739\n",
      "0.5671432904230607\n",
      "0.5671432904022541\n",
      "0.5671432904140543\n",
      "0.5671432904073619\n",
      "0.5671432904111575\n",
      "0.5671432904090048\n",
      "0.5671432904102257\n",
      "0.5671432904095333\n",
      "0.5671432904099261\n",
      "0.5671432904097032\n",
      "0.5671432904098296\n",
      "0.567143290409758\n",
      "0.5671432904097986\n",
      "0.5671432904097755\n",
      "0.5671432904097886\n"
     ]
    }
   ],
   "source": [
    "parar = False\n",
    "x = 0.55\n",
    "contador = 0\n",
    "while(not parar):\n",
    "    print(x)\n",
    "    x = pow(math.e, -x)\n",
    "    \n",
    "    if(contador > 50):\n",
    "        parar=True\n",
    "    contador+=1"
   ]
  }
 ],
 "metadata": {
  "kernelspec": {
   "display_name": "Python 3.10.7 ('calcnum': venv)",
   "language": "python",
   "name": "python3"
  },
  "language_info": {
   "codemirror_mode": {
    "name": "ipython",
    "version": 3
   },
   "file_extension": ".py",
   "mimetype": "text/x-python",
   "name": "python",
   "nbconvert_exporter": "python",
   "pygments_lexer": "ipython3",
   "version": "3.10.7"
  },
  "orig_nbformat": 4,
  "vscode": {
   "interpreter": {
    "hash": "9c1f18f054bb6913bdc19e0bd7f5fafc144cddd93db4e045663cdc969eed3cf8"
   }
  }
 },
 "nbformat": 4,
 "nbformat_minor": 2
}
