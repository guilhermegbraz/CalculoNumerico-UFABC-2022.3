{
 "cells": [
  {
   "cell_type": "code",
   "execution_count": 6,
   "metadata": {},
   "outputs": [],
   "source": [
    "import math\n",
    "import numpy as np\n",
    "import pandas as pd"
   ]
  },
  {
   "cell_type": "code",
   "execution_count": 7,
   "metadata": {},
   "outputs": [],
   "source": [
    "class BiscectionMethod:\n",
    "    \n",
    "    def __init__(self, ponto_a : float, ponto_b : float, precisao : float, funcao ) :\n",
    "        self.ponto_a = ponto_a\n",
    "        self.ponto_b = ponto_b\n",
    "        self.precisao = precisao\n",
    "        self.funcao = funcao\n",
    "        self.__tabela = None\n",
    "        self.__relacao = list()\n",
    "    \n",
    "    def get_raiz(self) :\n",
    "        \n",
    "        raiz_encontrada = False\n",
    "\n",
    "        while(not raiz_encontrada) :\n",
    "            \n",
    "            x = np.array([self.ponto_a, self.ponto_b]).mean()\n",
    "            erro_relativo = (abs(x - self.ponto_a)/np.array([1, x]).max())\n",
    "            \n",
    "            linha = (self.ponto_a, self.ponto_b, self.funcao(self.ponto_a), self.funcao(self.ponto_b), x, self.funcao(x), erro_relativo)\n",
    "            self.__relacao.append(linha)\n",
    "            \n",
    "            if( erro_relativo < self.precisao) :\n",
    "                raiz = x\n",
    "                raiz_encontrada = True\n",
    "            else:\n",
    "                if self.funcao(self.ponto_a) * self.funcao(x) < 0:\n",
    "                    self.ponto_b = x\n",
    "                else:\n",
    "                    self.ponto_a = x\n",
    "        return raiz\n",
    "    \n",
    "    @property\n",
    "    def tabela(self):\n",
    "        self.__tabela = pd.DataFrame(self.__relacao, columns=[\"a\", \"b\", \"f(a)\", \"f(b)\",\"X_k\", \"f(X_k)\", \"Erro relativo\"])\n",
    "        return self.__tabela\n"
   ]
  },
  {
   "cell_type": "code",
   "execution_count": 8,
   "metadata": {},
   "outputs": [],
   "source": [
    "### 4.(a)\n",
    "def funcao_a(x : float):\n",
    "    return pow(x,2) - math.sin(x)\n",
    "\n",
    "### 4.(b)\n",
    "def funcao_b(x : float):\n",
    "    return math.cos(math.pi*(x+1)/8) + 0.148 * x -0.9062\n",
    "\n",
    "### 4.(c)\n",
    "def funcao_c(x : float):\n",
    "    return pow(x, 2) + math.log(x)\n",
    "\n",
    "### 4.(d)\n",
    "def funcao_d(x : float):\n",
    "    return x * math.pow(math.e, x) - 1"
   ]
  },
  {
   "cell_type": "markdown",
   "metadata": {},
   "source": [
    "### 4.(a) "
   ]
  },
  {
   "cell_type": "code",
   "execution_count": 9,
   "metadata": {},
   "outputs": [
    {
     "name": "stdout",
     "output_type": "stream",
     "text": [
      "Raiz a partir do objeto eh: 0.8828125\n"
     ]
    },
    {
     "data": {
      "text/html": [
       "<div>\n",
       "<style scoped>\n",
       "    .dataframe tbody tr th:only-of-type {\n",
       "        vertical-align: middle;\n",
       "    }\n",
       "\n",
       "    .dataframe tbody tr th {\n",
       "        vertical-align: top;\n",
       "    }\n",
       "\n",
       "    .dataframe thead th {\n",
       "        text-align: right;\n",
       "    }\n",
       "</style>\n",
       "<table border=\"1\" class=\"dataframe\">\n",
       "  <thead>\n",
       "    <tr style=\"text-align: right;\">\n",
       "      <th></th>\n",
       "      <th>a</th>\n",
       "      <th>b</th>\n",
       "      <th>f(a)</th>\n",
       "      <th>f(b)</th>\n",
       "      <th>X_k</th>\n",
       "      <th>f(X_k)</th>\n",
       "      <th>Erro relativo</th>\n",
       "    </tr>\n",
       "  </thead>\n",
       "  <tbody>\n",
       "    <tr>\n",
       "      <th>0</th>\n",
       "      <td>0.500</td>\n",
       "      <td>1.000000</td>\n",
       "      <td>-0.229426</td>\n",
       "      <td>0.158529</td>\n",
       "      <td>0.750000</td>\n",
       "      <td>-0.119139</td>\n",
       "      <td>0.250000</td>\n",
       "    </tr>\n",
       "    <tr>\n",
       "      <th>1</th>\n",
       "      <td>0.750</td>\n",
       "      <td>1.000000</td>\n",
       "      <td>-0.119139</td>\n",
       "      <td>0.158529</td>\n",
       "      <td>0.875000</td>\n",
       "      <td>-0.001919</td>\n",
       "      <td>0.125000</td>\n",
       "    </tr>\n",
       "    <tr>\n",
       "      <th>2</th>\n",
       "      <td>0.875</td>\n",
       "      <td>1.000000</td>\n",
       "      <td>-0.001919</td>\n",
       "      <td>0.158529</td>\n",
       "      <td>0.937500</td>\n",
       "      <td>0.072825</td>\n",
       "      <td>0.062500</td>\n",
       "    </tr>\n",
       "    <tr>\n",
       "      <th>3</th>\n",
       "      <td>0.875</td>\n",
       "      <td>0.937500</td>\n",
       "      <td>-0.001919</td>\n",
       "      <td>0.072825</td>\n",
       "      <td>0.906250</td>\n",
       "      <td>0.034092</td>\n",
       "      <td>0.031250</td>\n",
       "    </tr>\n",
       "    <tr>\n",
       "      <th>4</th>\n",
       "      <td>0.875</td>\n",
       "      <td>0.906250</td>\n",
       "      <td>-0.001919</td>\n",
       "      <td>0.034092</td>\n",
       "      <td>0.890625</td>\n",
       "      <td>0.015748</td>\n",
       "      <td>0.015625</td>\n",
       "    </tr>\n",
       "    <tr>\n",
       "      <th>5</th>\n",
       "      <td>0.875</td>\n",
       "      <td>0.890625</td>\n",
       "      <td>-0.001919</td>\n",
       "      <td>0.015748</td>\n",
       "      <td>0.882812</td>\n",
       "      <td>0.006830</td>\n",
       "      <td>0.007812</td>\n",
       "    </tr>\n",
       "  </tbody>\n",
       "</table>\n",
       "</div>"
      ],
      "text/plain": [
       "       a         b      f(a)      f(b)       X_k    f(X_k)  Erro relativo\n",
       "0  0.500  1.000000 -0.229426  0.158529  0.750000 -0.119139       0.250000\n",
       "1  0.750  1.000000 -0.119139  0.158529  0.875000 -0.001919       0.125000\n",
       "2  0.875  1.000000 -0.001919  0.158529  0.937500  0.072825       0.062500\n",
       "3  0.875  0.937500 -0.001919  0.072825  0.906250  0.034092       0.031250\n",
       "4  0.875  0.906250 -0.001919  0.034092  0.890625  0.015748       0.015625\n",
       "5  0.875  0.890625 -0.001919  0.015748  0.882812  0.006830       0.007812"
      ]
     },
     "execution_count": 9,
     "metadata": {},
     "output_type": "execute_result"
    }
   ],
   "source": [
    "problemaA = BiscectionMethod(0.5, 1, 0.01, funcao_a)\n",
    "print(\"Raiz a partir do objeto eh: {}\".format(problemaA.get_raiz()))\n",
    "problemaA.tabela"
   ]
  },
  {
   "cell_type": "markdown",
   "metadata": {},
   "source": [
    "### 4.(b).I"
   ]
  },
  {
   "cell_type": "code",
   "execution_count": null,
   "metadata": {},
   "outputs": [],
   "source": [
    "problemaB = BiscectionMethod(-1, 0, 0.01, funcao_b)\n",
    "print(\"Raiz a partir do objeto eh: {}\".format(problemaB.get_raiz()))\n",
    "problemaB.tabela"
   ]
  },
  {
   "cell_type": "markdown",
   "metadata": {},
   "source": [
    "### 4.(b).II"
   ]
  },
  {
   "cell_type": "code",
   "execution_count": null,
   "metadata": {},
   "outputs": [],
   "source": [
    "problemaB2 = BiscectionMethod(0, 1, 0.01, funcao_b)\n",
    "print(\"Raiz a partir do objeto eh: {}\".format(problemaB2.get_raiz()))\n",
    "print(problemaB.tabela)"
   ]
  },
  {
   "cell_type": "markdown",
   "metadata": {},
   "source": [
    "### 4.(c)"
   ]
  },
  {
   "cell_type": "code",
   "execution_count": null,
   "metadata": {},
   "outputs": [],
   "source": [
    "problemaC = BiscectionMethod(0.5, 1, 0.01, funcao_c)\n",
    "print(\"Raiz a partir do objeto eh: {}\".format(problemaC.get_raiz()))\n",
    "problemaC.tabela"
   ]
  },
  {
   "cell_type": "markdown",
   "metadata": {},
   "source": [
    "### 4.(d)"
   ]
  },
  {
   "cell_type": "code",
   "execution_count": null,
   "metadata": {},
   "outputs": [],
   "source": [
    "problemaD = BiscectionMethod(0.5, 1, 0.01, funcao_d)\n",
    "print(\"Raiz a partir do objeto eh: {}\".format(problemaD.get_raiz()))\n",
    "problemaD.tabela"
   ]
  }
 ],
 "metadata": {
  "kernelspec": {
   "display_name": "Python 3.10.7 ('calcnum': venv)",
   "language": "python",
   "name": "python3"
  },
  "language_info": {
   "codemirror_mode": {
    "name": "ipython",
    "version": 3
   },
   "file_extension": ".py",
   "mimetype": "text/x-python",
   "name": "python",
   "nbconvert_exporter": "python",
   "pygments_lexer": "ipython3",
   "version": "3.10.7"
  },
  "orig_nbformat": 4,
  "vscode": {
   "interpreter": {
    "hash": "9c1f18f054bb6913bdc19e0bd7f5fafc144cddd93db4e045663cdc969eed3cf8"
   }
  }
 },
 "nbformat": 4,
 "nbformat_minor": 2
}
